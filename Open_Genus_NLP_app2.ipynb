{
  "nbformat": 4,
  "nbformat_minor": 0,
  "metadata": {
    "colab": {
      "name": "Open Genus NLP app2.ipynb",
      "provenance": [],
      "collapsed_sections": []
    },
    "kernelspec": {
      "name": "python3",
      "display_name": "Python 3"
    }
  },
  "cells": [
    {
      "cell_type": "code",
      "metadata": {
        "id": "Cy2PURcvfnkt"
      },
      "source": [
        ""
      ],
      "execution_count": null,
      "outputs": []
    },
    {
      "cell_type": "markdown",
      "metadata": {
        "id": "M5WTUCN4Mand"
      },
      "source": [
        "# PDF Extraction"
      ]
    },
    {
      "cell_type": "code",
      "metadata": {
        "colab": {
          "base_uri": "https://localhost:8080/"
        },
        "id": "97kt3kDaMcdR",
        "outputId": "3eb5eaab-5050-48b8-e085-5ec2039f5ca7"
      },
      "source": [
        "!pip install PyPDF2"
      ],
      "execution_count": 30,
      "outputs": [
        {
          "output_type": "stream",
          "text": [
            "Requirement already satisfied: PyPDF2 in /usr/local/lib/python3.6/dist-packages (1.26.0)\n"
          ],
          "name": "stdout"
        }
      ]
    },
    {
      "cell_type": "code",
      "metadata": {
        "colab": {
          "base_uri": "https://localhost:8080/"
        },
        "id": "Ympq_i_4Mfn5",
        "outputId": "933bf932-40e3-4850-8b9d-a351dd3d7772"
      },
      "source": [
        "import PyPDF2 as pdf\r\n",
        "\r\n",
        "file= open('/ASK THE RIGHT QUESTIONS.pdf', 'rb')\r\n",
        "file"
      ],
      "execution_count": 38,
      "outputs": [
        {
          "output_type": "execute_result",
          "data": {
            "text/plain": [
              "<_io.BufferedReader name='/ASK THE RIGHT QUESTIONS.pdf'>"
            ]
          },
          "metadata": {
            "tags": []
          },
          "execution_count": 38
        }
      ]
    },
    {
      "cell_type": "code",
      "metadata": {
        "colab": {
          "base_uri": "https://localhost:8080/"
        },
        "id": "EvOBPVkdO6UT",
        "outputId": "8ccbcb8a-2bbd-4e3e-bde1-e02d0b26e743"
      },
      "source": [
        "pdf_reader= pdf.PdfFileReader(file)\r\n",
        "pdf_reader"
      ],
      "execution_count": 39,
      "outputs": [
        {
          "output_type": "execute_result",
          "data": {
            "text/plain": [
              "<PyPDF2.pdf.PdfFileReader at 0x7fe9cafaf940>"
            ]
          },
          "metadata": {
            "tags": []
          },
          "execution_count": 39
        }
      ]
    },
    {
      "cell_type": "code",
      "metadata": {
        "colab": {
          "base_uri": "https://localhost:8080/"
        },
        "id": "UxJomjB2PN0V",
        "outputId": "ed66f5e0-8e93-4fcd-fc3b-698c0fb4fcc0"
      },
      "source": [
        "pdf_reader.getIsEncrypted()"
      ],
      "execution_count": 40,
      "outputs": [
        {
          "output_type": "execute_result",
          "data": {
            "text/plain": [
              "False"
            ]
          },
          "metadata": {
            "tags": []
          },
          "execution_count": 40
        }
      ]
    },
    {
      "cell_type": "code",
      "metadata": {
        "colab": {
          "base_uri": "https://localhost:8080/"
        },
        "id": "T7wUfUfZPqid",
        "outputId": "39087eaa-69bd-4db5-f60b-bde1b6ef1074"
      },
      "source": [
        "pdf_reader.getNumPages()"
      ],
      "execution_count": 41,
      "outputs": [
        {
          "output_type": "execute_result",
          "data": {
            "text/plain": [
              "15"
            ]
          },
          "metadata": {
            "tags": []
          },
          "execution_count": 41
        }
      ]
    },
    {
      "cell_type": "code",
      "metadata": {
        "id": "QCXi7eAJP89a"
      },
      "source": [
        "page1= pdf_reader.getPage(0)\r\n",
        "#page1"
      ],
      "execution_count": 42,
      "outputs": []
    },
    {
      "cell_type": "code",
      "metadata": {
        "colab": {
          "base_uri": "https://localhost:8080/"
        },
        "id": "IxNAsdrqQFpg",
        "outputId": "dc79e743-d982-4aac-e581-358f4fcca8ff"
      },
      "source": [
        "print(page1.extractText())"
      ],
      "execution_count": 43,
      "outputs": [
        {
          "output_type": "stream",
          "text": [
            "PublishedasaconferencepaperatICLR2018\n",
            "A\n",
            "SKTHE\n",
            "R\n",
            "IGHT\n",
            "Q\n",
            "UESTIONS\n",
            ":\n",
            "A\n",
            "CTIVE\n",
            "Q\n",
            "UESTION\n",
            "R\n",
            "EFORMULATIONWITH\n",
            "R\n",
            "EINFORCEMENT\n",
            "L\n",
            "EARNING\n",
            "ChristianBuck,JannisBulian,MassimilianoCiaramita,WojciechGajewski,\n",
            "AndreaGesmundo,NeilHoulsby,WeiWang\n",
            "Google\n",
            "{cbuck,jbulian,massi,wgaj,agesmundo,neilhoulsby,wangwe}@google.com\n",
            "A\n",
            "BSTRACT\n",
            "WeframeQuestionAnswering(QA)asaReinforcementLearningtask,anapproach\n",
            "thatwecall\n",
            "ActiveQuestionAnswering\n",
            ".Weproposeanagentthatsitsbetween\n",
            "theuserandablackboxQAsystemandlearnstoreformulatequestionstoelicit\n",
            "thebestpossibleanswers.Theagentprobesthesystemwith,potentiallymany,\n",
            "naturallanguagereformulationsofaninitialquestionandaggregatesthereturned\n",
            "evidencetoyieldthebestanswer.Thereformulationsystemistrainedend-to-endto\n",
            "maximizeanswerqualityusingpolicygradient.WeevaluateonSearchQA,adataset\n",
            "ofcomplexquestionsextractedfrom\n",
            "Jeopardy!\n",
            ".Theagentoutperformsastate-\n",
            "of-the-artbasemodel,playingtheroleoftheenvironment,andotherbenchmarks.\n",
            "Wealsoanalyzethelanguagethattheagenthaslearnedwhileinteractingwiththe\n",
            "questionansweringsystem.Wethatsuccessfulquestionreformulationslook\n",
            "quitedifferentfromnaturallanguageparaphrases.Theagentisabletodiscover\n",
            "non-trivialreformulationstrategiesthatresembleclassicinformationretrieval\n",
            "techniquessuchastermre-weighting(tf-idf)andstemming.\n",
            "1I\n",
            "NTRODUCTION\n",
            "Webandsocialmediahavebecomeprimarysourcesofinformation.Users'expectationsand\n",
            "informationseekingactivitiesco-evolvewiththeincreasingsophisticationoftheseresources.Beyond\n",
            "navigation,documentretrieval,andsimplefactualquestionanswering,usersseekdirectanswersto\n",
            "complexandcompositionalquestions.Suchsearchsessionsmayrequiremultipleiterations,critical\n",
            "assessment,andsynthesis(Marchionini,2006).\n",
            "Theproductivityofnaturallanguageyieldsamyriadofwaystoformulateaquestion(Chomsky,\n",
            "1965).Inthefaceofcomplexinformationneeds,humansovercomeuncertaintybyreformulating\n",
            "questions,issuingmultiplesearches,andaggregatingresponses.Inspiredbyhumans'abilityto\n",
            "ask\n",
            "therightquestions\n",
            ",wepresentanagentthatlearnstocarryoutthisprocessfortheuser.Theagentsits\n",
            "betweentheuserandabackendQAsystemthatwerefertoas`theenvironment'.Wecalltheagent\n",
            "AQA,asitimplementsan\n",
            "activequestionanswering\n",
            "strategy.AQAaimstomaximizethechanceof\n",
            "gettingthecorrectanswerbysendingareformulatedquestiontotheenvironment.Theagentseeksto\n",
            "thebestanswerbyaskingmanyquestionsandaggregatingthereturnedevidence.Theinternals\n",
            "oftheenvironmentarenotavailabletotheagent,soitmustlearntoprobeablack-boxoptimallyusing\n",
            "onlyquestionstrings.ThekeycomponentoftheAQAagentisasequence-to-sequencemodeltrained\n",
            "withreinforcementlearning(RL)usingarewardbasedontheanswerreturnedbytheenvironment.\n",
            "ThesecondcomponenttoAQAcombinestheevidencefrominteractingwiththeenvironmentusinga\n",
            "convolutionalneuralnetworktoselectananswer.\n",
            "Weevaluateonadatasetof\n",
            "Jeopardy!\n",
            "questions,SearchQA(Dunnetal.,2017).Thesequestions\n",
            "arehardtoanswerbydesignbecausetheyuseconvolutedlanguage,e.g.,\n",
            "Traveldoesn'tseemtobe\n",
            "anissueforthissorcerer&onetimesurgeon;astralprojection&teleportationarenoprob\n",
            "(answer:\n",
            "DoctorStrange\n",
            ").ThusSearchQAteststheabilityofAQAtoreformulatequestionssuchthattheQA\n",
            "systemhasthebestchanceofreturningthecorrectanswer.AQAimprovesovertheperformance\n",
            "ofadeepnetworkbuiltforQA,BiDAF(Seoetal.,2017a),whichhasproducedstate-of-the-art\n",
            "1\n",
            "arXiv:1705.07830v3  [cs.CL]  2 Mar 2018\n"
          ],
          "name": "stdout"
        }
      ]
    },
    {
      "cell_type": "markdown",
      "metadata": {
        "id": "j6rRBU4lSxZE"
      },
      "source": [
        "Merge 2 PDFs"
      ]
    },
    {
      "cell_type": "code",
      "metadata": {
        "id": "Lu3QNwKrQG9j"
      },
      "source": [
        "pdf_writer= pdf.PdfFileWriter()"
      ],
      "execution_count": 55,
      "outputs": []
    },
    {
      "cell_type": "code",
      "metadata": {
        "id": "1Mw2Cj8zS-6J"
      },
      "source": [
        "pdf_writer.addPage(page1)"
      ],
      "execution_count": 56,
      "outputs": []
    },
    {
      "cell_type": "code",
      "metadata": {
        "id": "MOSPQhNWTpVr"
      },
      "source": [
        "page15= pdf_reader.getPage(14)\r\n",
        "pdf_writer.addPage(page15)"
      ],
      "execution_count": 57,
      "outputs": []
    },
    {
      "cell_type": "code",
      "metadata": {
        "id": "vRLOzAh3UaeP"
      },
      "source": [
        "output= open('/Pages1&15.pdf', 'wb')\r\n",
        "pdf_writer.write(output)\r\n",
        "output.close()"
      ],
      "execution_count": 58,
      "outputs": []
    },
    {
      "cell_type": "code",
      "metadata": {
        "id": "y2La2uaVU0RN"
      },
      "source": [
        ""
      ],
      "execution_count": null,
      "outputs": []
    },
    {
      "cell_type": "markdown",
      "metadata": {
        "id": "mBf96wAgEqHy"
      },
      "source": [
        "# Text Translation"
      ]
    },
    {
      "cell_type": "code",
      "metadata": {
        "colab": {
          "base_uri": "https://localhost:8080/"
        },
        "id": "Gim3F26F2L8B",
        "outputId": "3b01e77e-8656-4135-add2-5e4cda3adeef"
      },
      "source": [
        "!pip install googletrans==3.1.0a0"
      ],
      "execution_count": 1,
      "outputs": [
        {
          "output_type": "stream",
          "text": [
            "Requirement already satisfied: googletrans==3.1.0a0 in /usr/local/lib/python3.6/dist-packages (3.1.0a0)\n",
            "Requirement already satisfied: httpx==0.13.3 in /usr/local/lib/python3.6/dist-packages (from googletrans==3.1.0a0) (0.13.3)\n",
            "Requirement already satisfied: certifi in /usr/local/lib/python3.6/dist-packages (from httpx==0.13.3->googletrans==3.1.0a0) (2020.12.5)\n",
            "Requirement already satisfied: sniffio in /usr/local/lib/python3.6/dist-packages (from httpx==0.13.3->googletrans==3.1.0a0) (1.2.0)\n",
            "Requirement already satisfied: rfc3986<2,>=1.3 in /usr/local/lib/python3.6/dist-packages (from httpx==0.13.3->googletrans==3.1.0a0) (1.4.0)\n",
            "Requirement already satisfied: chardet==3.* in /usr/local/lib/python3.6/dist-packages (from httpx==0.13.3->googletrans==3.1.0a0) (3.0.4)\n",
            "Requirement already satisfied: idna==2.* in /usr/local/lib/python3.6/dist-packages (from httpx==0.13.3->googletrans==3.1.0a0) (2.10)\n",
            "Requirement already satisfied: httpcore==0.9.* in /usr/local/lib/python3.6/dist-packages (from httpx==0.13.3->googletrans==3.1.0a0) (0.9.1)\n",
            "Requirement already satisfied: hstspreload in /usr/local/lib/python3.6/dist-packages (from httpx==0.13.3->googletrans==3.1.0a0) (2020.12.22)\n",
            "Requirement already satisfied: contextvars>=2.1; python_version < \"3.7\" in /usr/local/lib/python3.6/dist-packages (from sniffio->httpx==0.13.3->googletrans==3.1.0a0) (2.4)\n",
            "Requirement already satisfied: h11<0.10,>=0.8 in /usr/local/lib/python3.6/dist-packages (from httpcore==0.9.*->httpx==0.13.3->googletrans==3.1.0a0) (0.9.0)\n",
            "Requirement already satisfied: h2==3.* in /usr/local/lib/python3.6/dist-packages (from httpcore==0.9.*->httpx==0.13.3->googletrans==3.1.0a0) (3.2.0)\n",
            "Requirement already satisfied: immutables>=0.9 in /usr/local/lib/python3.6/dist-packages (from contextvars>=2.1; python_version < \"3.7\"->sniffio->httpx==0.13.3->googletrans==3.1.0a0) (0.14)\n",
            "Requirement already satisfied: hyperframe<6,>=5.2.0 in /usr/local/lib/python3.6/dist-packages (from h2==3.*->httpcore==0.9.*->httpx==0.13.3->googletrans==3.1.0a0) (5.2.0)\n",
            "Requirement already satisfied: hpack<4,>=3.0 in /usr/local/lib/python3.6/dist-packages (from h2==3.*->httpcore==0.9.*->httpx==0.13.3->googletrans==3.1.0a0) (3.0.0)\n"
          ],
          "name": "stdout"
        }
      ]
    },
    {
      "cell_type": "code",
      "metadata": {
        "id": "E6NAjwZS2M1l"
      },
      "source": [
        "from googletrans import Translator\r\n",
        "\r\n",
        "translator= Translator()"
      ],
      "execution_count": 7,
      "outputs": []
    },
    {
      "cell_type": "code",
      "metadata": {
        "colab": {
          "base_uri": "https://localhost:8080/"
        },
        "id": "-4GO2ZiOAjt5",
        "outputId": "a4834ee2-ef86-4339-df20-d1df19a25bab"
      },
      "source": [
        "sentence= input(\"Sentence to convert: \")\r\n",
        "\r\n",
        "translatedSent= translator.translate(sentence, dest='hi')\r\n",
        "\r\n",
        "print(\"Translated Sentence: \", translatedSent.text)"
      ],
      "execution_count": 13,
      "outputs": [
        {
          "output_type": "stream",
          "text": [
            "Sentence to convert: It is an example of translation.\n",
            "Translated Sentence:  यह अनुवाद का एक उदाहरण है।\n"
          ],
          "name": "stdout"
        }
      ]
    },
    {
      "cell_type": "code",
      "metadata": {
        "id": "O1odBR2zA2If"
      },
      "source": [
        ""
      ],
      "execution_count": null,
      "outputs": []
    },
    {
      "cell_type": "markdown",
      "metadata": {
        "id": "L3KoMjAdSnhU"
      },
      "source": [
        "# Text Classification"
      ]
    },
    {
      "cell_type": "code",
      "metadata": {
        "id": "6tdYHgHzIZ8C"
      },
      "source": [
        "import numpy as np\r\n",
        "\r\n",
        "from sklearn.datasets import fetch_20newsgroups"
      ],
      "execution_count": 3,
      "outputs": []
    },
    {
      "cell_type": "code",
      "metadata": {
        "colab": {
          "base_uri": "https://localhost:8080/"
        },
        "id": "_YKg2TRxLYZZ",
        "outputId": "76db78a0-32a5-4659-bad3-ca88af1b1fac"
      },
      "source": [
        "data= fetch_20newsgroups()\r\n",
        "data.target_names"
      ],
      "execution_count": 4,
      "outputs": [
        {
          "output_type": "execute_result",
          "data": {
            "text/plain": [
              "['alt.atheism',\n",
              " 'comp.graphics',\n",
              " 'comp.os.ms-windows.misc',\n",
              " 'comp.sys.ibm.pc.hardware',\n",
              " 'comp.sys.mac.hardware',\n",
              " 'comp.windows.x',\n",
              " 'misc.forsale',\n",
              " 'rec.autos',\n",
              " 'rec.motorcycles',\n",
              " 'rec.sport.baseball',\n",
              " 'rec.sport.hockey',\n",
              " 'sci.crypt',\n",
              " 'sci.electronics',\n",
              " 'sci.med',\n",
              " 'sci.space',\n",
              " 'soc.religion.christian',\n",
              " 'talk.politics.guns',\n",
              " 'talk.politics.mideast',\n",
              " 'talk.politics.misc',\n",
              " 'talk.religion.misc']"
            ]
          },
          "metadata": {
            "tags": []
          },
          "execution_count": 4
        }
      ]
    },
    {
      "cell_type": "code",
      "metadata": {
        "id": "WcACxQLeLhH2"
      },
      "source": [
        "# Defining all the categories\r\n",
        "categories= ['alt.atheism', 'comp.graphics', 'comp.os.ms-windows.misc', 'comp.sys.ibm.pc.hardware',\r\n",
        " 'comp.sys.mac.hardware', 'comp.windows.x', 'misc.forsale', 'rec.autos', 'rec.motorcycles',\r\n",
        " 'rec.sport.baseball', 'rec.sport.hockey', 'sci.crypt', 'sci.electronics', 'sci.med',\r\n",
        " 'sci.space', 'soc.religion.christian', 'talk.politics.guns', 'talk.politics.mideast',\r\n",
        " 'talk.politics.misc', 'talk.religion.misc']\r\n",
        "\r\n",
        "# Getting Training & Testing data from fetch_20newsgroups\r\n",
        "train= fetch_20newsgroups(subset= 'train', categories= categories)\r\n",
        " \r\n",
        "test= fetch_20newsgroups(subset= 'test', categories= categories)"
      ],
      "execution_count": 5,
      "outputs": []
    },
    {
      "cell_type": "code",
      "metadata": {
        "colab": {
          "base_uri": "https://localhost:8080/"
        },
        "id": "CpmOZy0SM4oD",
        "outputId": "fd775178-b6a6-4c88-9f31-aba7b0e9b049"
      },
      "source": [
        "print(train.data[-1])"
      ],
      "execution_count": 6,
      "outputs": [
        {
          "output_type": "stream",
          "text": [
            "From: gunning@cco.caltech.edu (Kevin J. Gunning)\n",
            "Subject: stolen CBR900RR\n",
            "Organization: California Institute of Technology, Pasadena\n",
            "Lines: 12\n",
            "Distribution: usa\n",
            "NNTP-Posting-Host: alumni.caltech.edu\n",
            "Summary: see above\n",
            "\n",
            "Stolen from Pasadena between 4:30 and 6:30 pm on 4/15.\n",
            "\n",
            "Blue and white Honda CBR900RR california plate KG CBR.   Serial number\n",
            "JH2SC281XPM100187, engine number 2101240.\n",
            "\n",
            "No turn signals or mirrors, lights taped over for track riders session\n",
            "at Willow Springs tomorrow.  Guess I'll miss it.  :-(((\n",
            "\n",
            "Help me find my baby!!!\n",
            "\n",
            "kjg\n",
            "\n",
            "\n"
          ],
          "name": "stdout"
        }
      ]
    },
    {
      "cell_type": "code",
      "metadata": {
        "id": "TFwSQgxPNKr1"
      },
      "source": [
        "from sklearn.feature_extraction.text import TfidfVectorizer\r\n",
        "from sklearn.naive_bayes import MultinomialNB\r\n",
        "from sklearn.pipeline import make_pipeline\r\n",
        "\r\n",
        "# to flow the data from vectorizer to Naive Bayes\r\n",
        "# and to create a model based on Naive Bayes\r\n",
        "model= make_pipeline(TfidfVectorizer(), MultinomialNB())\r\n",
        "\r\n",
        "# training the data on the model\r\n",
        "model.fit(train.data, train.target)\r\n",
        "\r\n",
        "# getting the predicted label on the test data\r\n",
        "predicted_labels= model.predict(test.data)"
      ],
      "execution_count": 7,
      "outputs": []
    },
    {
      "cell_type": "code",
      "metadata": {
        "colab": {
          "base_uri": "https://localhost:8080/",
          "height": 35
        },
        "id": "uqNPvfMnRFoV",
        "outputId": "8a810aa9-3d06-4737-feac-3a7b6d7f14fe"
      },
      "source": [
        "pred= model.predict(['You will win the game'])\r\n",
        "\r\n",
        "train.target_names[pred[0]]"
      ],
      "execution_count": 17,
      "outputs": [
        {
          "output_type": "execute_result",
          "data": {
            "application/vnd.google.colaboratory.intrinsic+json": {
              "type": "string"
            },
            "text/plain": [
              "'rec.sport.hockey'"
            ]
          },
          "metadata": {
            "tags": []
          },
          "execution_count": 17
        }
      ]
    },
    {
      "cell_type": "code",
      "metadata": {
        "id": "ngok35QKwzd0"
      },
      "source": [
        ""
      ],
      "execution_count": null,
      "outputs": []
    },
    {
      "cell_type": "markdown",
      "metadata": {
        "id": "lRZ-emw8zRbi"
      },
      "source": [
        "# QnA Bot"
      ]
    },
    {
      "cell_type": "code",
      "metadata": {
        "colab": {
          "base_uri": "https://localhost:8080/"
        },
        "id": "yDHqAGrXzRn2",
        "outputId": "6a48652b-46b4-4f04-984e-cd6cec966858"
      },
      "source": [
        "# !pip install allennlp\r\n",
        "!pip install allennlp==1.0.0 allennlp-models==1.0.0"
      ],
      "execution_count": 18,
      "outputs": [
        {
          "output_type": "stream",
          "text": [
            "Collecting allennlp==1.0.0\n",
            "\u001b[?25l  Downloading https://files.pythonhosted.org/packages/2c/49/bf0ec241496a82c9dd2f0b6ff6f8156b6b2b72b849df8c00a4f2bcf61485/allennlp-1.0.0-py3-none-any.whl (473kB)\n",
            "\u001b[K     |████████████████████████████████| 481kB 6.5MB/s \n",
            "\u001b[?25hCollecting allennlp-models==1.0.0\n",
            "\u001b[?25l  Downloading https://files.pythonhosted.org/packages/3d/d5/9ee1d0b8c217b6978e42e54fbab8bafe9e792f0f8262f381dde44cee44ae/allennlp_models-1.0.0-py3-none-any.whl (282kB)\n",
            "\u001b[K     |████████████████████████████████| 286kB 10.4MB/s \n",
            "\u001b[?25hRequirement already satisfied: h5py in /usr/local/lib/python3.6/dist-packages (from allennlp==1.0.0) (2.10.0)\n",
            "Requirement already satisfied: tqdm>=4.19 in /usr/local/lib/python3.6/dist-packages (from allennlp==1.0.0) (4.41.1)\n",
            "Requirement already satisfied: scikit-learn in /usr/local/lib/python3.6/dist-packages (from allennlp==1.0.0) (0.22.2.post1)\n",
            "Requirement already satisfied: pytest in /usr/local/lib/python3.6/dist-packages (from allennlp==1.0.0) (3.6.4)\n",
            "Collecting jsonpickle\n",
            "  Downloading https://files.pythonhosted.org/packages/ee/d5/1cc282dc23346a43aab461bf2e8c36593aacd34242bee1a13fa750db0cfe/jsonpickle-1.4.2-py2.py3-none-any.whl\n",
            "Requirement already satisfied: dataclasses; python_version < \"3.7\" in /usr/local/lib/python3.6/dist-packages (from allennlp==1.0.0) (0.8)\n",
            "Collecting jsonnet>=0.10.0; sys_platform != \"win32\"\n",
            "\u001b[?25l  Downloading https://files.pythonhosted.org/packages/42/40/6f16e5ac994b16fa71c24310f97174ce07d3a97b433275589265c6b94d2b/jsonnet-0.17.0.tar.gz (259kB)\n",
            "\u001b[K     |████████████████████████████████| 266kB 13.5MB/s \n",
            "\u001b[?25hRequirement already satisfied: nltk in /usr/local/lib/python3.6/dist-packages (from allennlp==1.0.0) (3.2.5)\n",
            "Collecting transformers<2.12,>=2.9\n",
            "\u001b[?25l  Downloading https://files.pythonhosted.org/packages/48/35/ad2c5b1b8f99feaaf9d7cdadaeef261f098c6e1a6a2935d4d07662a6b780/transformers-2.11.0-py3-none-any.whl (674kB)\n",
            "\u001b[K     |████████████████████████████████| 675kB 18.6MB/s \n",
            "\u001b[?25hCollecting overrides==3.0.0\n",
            "  Downloading https://files.pythonhosted.org/packages/42/8d/caa729f809ecdf8e76fac3c1ff7d3f0b72c398c9dd8a6919927a30a873b3/overrides-3.0.0.tar.gz\n",
            "Requirement already satisfied: numpy in /usr/local/lib/python3.6/dist-packages (from allennlp==1.0.0) (1.19.4)\n",
            "Requirement already satisfied: requests>=2.18 in /usr/local/lib/python3.6/dist-packages (from allennlp==1.0.0) (2.23.0)\n",
            "Collecting torch<1.6.0,>=1.5.0\n",
            "\u001b[?25l  Downloading https://files.pythonhosted.org/packages/62/01/457b49d790b6c4b9720e6f9dbbb617692f6ce8afdaadf425c055c41a7416/torch-1.5.1-cp36-cp36m-manylinux1_x86_64.whl (753.2MB)\n",
            "\u001b[K     |████████████████████████████████| 753.2MB 21kB/s \n",
            "\u001b[?25hCollecting boto3\n",
            "\u001b[?25l  Downloading https://files.pythonhosted.org/packages/55/c6/912cc2cfd1b4051621552fc5961c25e2f517a090d179a38f62d5cdaf5d37/boto3-1.16.43-py2.py3-none-any.whl (130kB)\n",
            "\u001b[K     |████████████████████████████████| 133kB 49.1MB/s \n",
            "\u001b[?25hRequirement already satisfied: scipy in /usr/local/lib/python3.6/dist-packages (from allennlp==1.0.0) (1.4.1)\n",
            "Requirement already satisfied: spacy<2.3,>=2.1.0 in /usr/local/lib/python3.6/dist-packages (from allennlp==1.0.0) (2.2.4)\n",
            "Requirement already satisfied: filelock<3.1,>=3.0 in /usr/local/lib/python3.6/dist-packages (from allennlp==1.0.0) (3.0.12)\n",
            "Collecting tensorboardX>=1.2\n",
            "\u001b[?25l  Downloading https://files.pythonhosted.org/packages/af/0c/4f41bcd45db376e6fe5c619c01100e9b7531c55791b7244815bac6eac32c/tensorboardX-2.1-py2.py3-none-any.whl (308kB)\n",
            "\u001b[K     |████████████████████████████████| 317kB 45.5MB/s \n",
            "\u001b[?25hCollecting word2number>=1.1\n",
            "  Downloading https://files.pythonhosted.org/packages/4a/29/a31940c848521f0725f0df6b25dca8917f13a2025b0e8fcbe5d0457e45e6/word2number-1.1.zip\n",
            "Collecting conllu==3.0\n",
            "  Downloading https://files.pythonhosted.org/packages/66/0b/a8863b5c14aee200a13a0f8c28550fd0132e947ae88441c9f517eb84613b/conllu-3.0-py2.py3-none-any.whl\n",
            "Collecting py-rouge==1.1\n",
            "\u001b[?25l  Downloading https://files.pythonhosted.org/packages/9c/1d/0bdbaf559fb7afe32308ebc84a2028600988212d7eb7fb9f69c4e829e4a0/py_rouge-1.1-py3-none-any.whl (56kB)\n",
            "\u001b[K     |████████████████████████████████| 61kB 7.4MB/s \n",
            "\u001b[?25hRequirement already satisfied: six in /usr/local/lib/python3.6/dist-packages (from h5py->allennlp==1.0.0) (1.15.0)\n",
            "Requirement already satisfied: joblib>=0.11 in /usr/local/lib/python3.6/dist-packages (from scikit-learn->allennlp==1.0.0) (1.0.0)\n",
            "Requirement already satisfied: py>=1.5.0 in /usr/local/lib/python3.6/dist-packages (from pytest->allennlp==1.0.0) (1.10.0)\n",
            "Requirement already satisfied: atomicwrites>=1.0 in /usr/local/lib/python3.6/dist-packages (from pytest->allennlp==1.0.0) (1.4.0)\n",
            "Requirement already satisfied: setuptools in /usr/local/lib/python3.6/dist-packages (from pytest->allennlp==1.0.0) (51.0.0)\n",
            "Requirement already satisfied: pluggy<0.8,>=0.5 in /usr/local/lib/python3.6/dist-packages (from pytest->allennlp==1.0.0) (0.7.1)\n",
            "Requirement already satisfied: attrs>=17.4.0 in /usr/local/lib/python3.6/dist-packages (from pytest->allennlp==1.0.0) (20.3.0)\n",
            "Requirement already satisfied: more-itertools>=4.0.0 in /usr/local/lib/python3.6/dist-packages (from pytest->allennlp==1.0.0) (8.6.0)\n",
            "Requirement already satisfied: importlib-metadata; python_version < \"3.8\" in /usr/local/lib/python3.6/dist-packages (from jsonpickle->allennlp==1.0.0) (3.3.0)\n",
            "Requirement already satisfied: packaging in /usr/local/lib/python3.6/dist-packages (from transformers<2.12,>=2.9->allennlp==1.0.0) (20.8)\n",
            "Requirement already satisfied: regex!=2019.12.17 in /usr/local/lib/python3.6/dist-packages (from transformers<2.12,>=2.9->allennlp==1.0.0) (2019.12.20)\n",
            "Collecting sentencepiece\n",
            "\u001b[?25l  Downloading https://files.pythonhosted.org/packages/e5/2d/6d4ca4bef9a67070fa1cac508606328329152b1df10bdf31fb6e4e727894/sentencepiece-0.1.94-cp36-cp36m-manylinux2014_x86_64.whl (1.1MB)\n",
            "\u001b[K     |████████████████████████████████| 1.1MB 43.5MB/s \n",
            "\u001b[?25hCollecting sacremoses\n",
            "\u001b[?25l  Downloading https://files.pythonhosted.org/packages/7d/34/09d19aff26edcc8eb2a01bed8e98f13a1537005d31e95233fd48216eed10/sacremoses-0.0.43.tar.gz (883kB)\n",
            "\u001b[K     |████████████████████████████████| 890kB 46.5MB/s \n",
            "\u001b[?25hCollecting tokenizers==0.7.0\n",
            "\u001b[?25l  Downloading https://files.pythonhosted.org/packages/14/e5/a26eb4716523808bb0a799fcfdceb6ebf77a18169d9591b2f46a9adb87d9/tokenizers-0.7.0-cp36-cp36m-manylinux1_x86_64.whl (3.8MB)\n",
            "\u001b[K     |████████████████████████████████| 3.8MB 32.5MB/s \n",
            "\u001b[?25hRequirement already satisfied: certifi>=2017.4.17 in /usr/local/lib/python3.6/dist-packages (from requests>=2.18->allennlp==1.0.0) (2020.12.5)\n",
            "Requirement already satisfied: idna<3,>=2.5 in /usr/local/lib/python3.6/dist-packages (from requests>=2.18->allennlp==1.0.0) (2.10)\n",
            "Requirement already satisfied: chardet<4,>=3.0.2 in /usr/local/lib/python3.6/dist-packages (from requests>=2.18->allennlp==1.0.0) (3.0.4)\n",
            "Requirement already satisfied: urllib3!=1.25.0,!=1.25.1,<1.26,>=1.21.1 in /usr/local/lib/python3.6/dist-packages (from requests>=2.18->allennlp==1.0.0) (1.24.3)\n",
            "Requirement already satisfied: future in /usr/local/lib/python3.6/dist-packages (from torch<1.6.0,>=1.5.0->allennlp==1.0.0) (0.16.0)\n",
            "Collecting botocore<1.20.0,>=1.19.43\n",
            "\u001b[?25l  Downloading https://files.pythonhosted.org/packages/ef/6c/9f6e6a14f53b21b6f1670ccd789082015911458823914b7dabca333ae033/botocore-1.19.43-py2.py3-none-any.whl (7.2MB)\n",
            "\u001b[K     |████████████████████████████████| 7.2MB 40.5MB/s \n",
            "\u001b[?25hCollecting jmespath<1.0.0,>=0.7.1\n",
            "  Downloading https://files.pythonhosted.org/packages/07/cb/5f001272b6faeb23c1c9e0acc04d48eaaf5c862c17709d20e3469c6e0139/jmespath-0.10.0-py2.py3-none-any.whl\n",
            "Collecting s3transfer<0.4.0,>=0.3.0\n",
            "\u001b[?25l  Downloading https://files.pythonhosted.org/packages/69/79/e6afb3d8b0b4e96cefbdc690f741d7dd24547ff1f94240c997a26fa908d3/s3transfer-0.3.3-py2.py3-none-any.whl (69kB)\n",
            "\u001b[K     |████████████████████████████████| 71kB 8.4MB/s \n",
            "\u001b[?25hRequirement already satisfied: wasabi<1.1.0,>=0.4.0 in /usr/local/lib/python3.6/dist-packages (from spacy<2.3,>=2.1.0->allennlp==1.0.0) (0.8.0)\n",
            "Requirement already satisfied: catalogue<1.1.0,>=0.0.7 in /usr/local/lib/python3.6/dist-packages (from spacy<2.3,>=2.1.0->allennlp==1.0.0) (1.0.0)\n",
            "Requirement already satisfied: murmurhash<1.1.0,>=0.28.0 in /usr/local/lib/python3.6/dist-packages (from spacy<2.3,>=2.1.0->allennlp==1.0.0) (1.0.5)\n",
            "Requirement already satisfied: srsly<1.1.0,>=1.0.2 in /usr/local/lib/python3.6/dist-packages (from spacy<2.3,>=2.1.0->allennlp==1.0.0) (1.0.5)\n",
            "Requirement already satisfied: plac<1.2.0,>=0.9.6 in /usr/local/lib/python3.6/dist-packages (from spacy<2.3,>=2.1.0->allennlp==1.0.0) (1.1.3)\n",
            "Requirement already satisfied: blis<0.5.0,>=0.4.0 in /usr/local/lib/python3.6/dist-packages (from spacy<2.3,>=2.1.0->allennlp==1.0.0) (0.4.1)\n",
            "Requirement already satisfied: preshed<3.1.0,>=3.0.2 in /usr/local/lib/python3.6/dist-packages (from spacy<2.3,>=2.1.0->allennlp==1.0.0) (3.0.5)\n",
            "Requirement already satisfied: thinc==7.4.0 in /usr/local/lib/python3.6/dist-packages (from spacy<2.3,>=2.1.0->allennlp==1.0.0) (7.4.0)\n",
            "Requirement already satisfied: cymem<2.1.0,>=2.0.2 in /usr/local/lib/python3.6/dist-packages (from spacy<2.3,>=2.1.0->allennlp==1.0.0) (2.0.5)\n",
            "Requirement already satisfied: protobuf>=3.8.0 in /usr/local/lib/python3.6/dist-packages (from tensorboardX>=1.2->allennlp==1.0.0) (3.12.4)\n",
            "Requirement already satisfied: zipp>=0.5 in /usr/local/lib/python3.6/dist-packages (from importlib-metadata; python_version < \"3.8\"->jsonpickle->allennlp==1.0.0) (3.4.0)\n",
            "Requirement already satisfied: typing-extensions>=3.6.4; python_version < \"3.8\" in /usr/local/lib/python3.6/dist-packages (from importlib-metadata; python_version < \"3.8\"->jsonpickle->allennlp==1.0.0) (3.7.4.3)\n",
            "Requirement already satisfied: pyparsing>=2.0.2 in /usr/local/lib/python3.6/dist-packages (from packaging->transformers<2.12,>=2.9->allennlp==1.0.0) (2.4.7)\n",
            "Requirement already satisfied: click in /usr/local/lib/python3.6/dist-packages (from sacremoses->transformers<2.12,>=2.9->allennlp==1.0.0) (7.1.2)\n",
            "Requirement already satisfied: python-dateutil<3.0.0,>=2.1 in /usr/local/lib/python3.6/dist-packages (from botocore<1.20.0,>=1.19.43->boto3->allennlp==1.0.0) (2.8.1)\n",
            "Building wheels for collected packages: jsonnet, overrides, word2number, sacremoses\n",
            "  Building wheel for jsonnet (setup.py) ... \u001b[?25l\u001b[?25hdone\n",
            "  Created wheel for jsonnet: filename=jsonnet-0.17.0-cp36-cp36m-linux_x86_64.whl size=3387921 sha256=9cb04c2fe4a05238955d4ff8f7a9d4829a1a0de3a23e4e920c666f02f715eade\n",
            "  Stored in directory: /root/.cache/pip/wheels/26/7a/37/7dbcc30a6b4efd17b91ad1f0128b7bbf84813bd4e1cfb8c1e3\n",
            "  Building wheel for overrides (setup.py) ... \u001b[?25l\u001b[?25hdone\n",
            "  Created wheel for overrides: filename=overrides-3.0.0-cp36-none-any.whl size=5669 sha256=b88dff65a80eb3490d8890329e97c997c3e83c6c3104b9ba0cb6566a1a81d6f0\n",
            "  Stored in directory: /root/.cache/pip/wheels/6f/1b/ec/6c71a1eb823df7f850d956b2d8c50a6d49c191e1063d73b9be\n",
            "  Building wheel for word2number (setup.py) ... \u001b[?25l\u001b[?25hdone\n",
            "  Created wheel for word2number: filename=word2number-1.1-cp36-none-any.whl size=5588 sha256=7223e0b7817a748c53cf6bd1c7b55e410e1053d0d0ea723feb102fc3a5d7d09d\n",
            "  Stored in directory: /root/.cache/pip/wheels/46/2f/53/5f5c1d275492f2fce1cdab9a9bb12d49286dead829a4078e0e\n",
            "  Building wheel for sacremoses (setup.py) ... \u001b[?25l\u001b[?25hdone\n",
            "  Created wheel for sacremoses: filename=sacremoses-0.0.43-cp36-none-any.whl size=893261 sha256=a5bffa5fbd71c729cc97f471368c919a1abd24f22ac23b07db9cfa396b804271\n",
            "  Stored in directory: /root/.cache/pip/wheels/29/3c/fd/7ce5c3f0666dab31a50123635e6fb5e19ceb42ce38d4e58f45\n",
            "Successfully built jsonnet overrides word2number sacremoses\n",
            "\u001b[31mERROR: torchvision 0.8.1+cu101 has requirement torch==1.7.0, but you'll have torch 1.5.1 which is incompatible.\u001b[0m\n",
            "\u001b[31mERROR: botocore 1.19.43 has requirement urllib3<1.27,>=1.25.4; python_version != \"3.4\", but you'll have urllib3 1.24.3 which is incompatible.\u001b[0m\n",
            "Installing collected packages: jsonpickle, jsonnet, sentencepiece, sacremoses, tokenizers, transformers, overrides, torch, jmespath, botocore, s3transfer, boto3, tensorboardX, allennlp, word2number, conllu, py-rouge, allennlp-models\n",
            "  Found existing installation: torch 1.7.0+cu101\n",
            "    Uninstalling torch-1.7.0+cu101:\n",
            "      Successfully uninstalled torch-1.7.0+cu101\n",
            "Successfully installed allennlp-1.0.0 allennlp-models-1.0.0 boto3-1.16.43 botocore-1.19.43 conllu-3.0 jmespath-0.10.0 jsonnet-0.17.0 jsonpickle-1.4.2 overrides-3.0.0 py-rouge-1.1 s3transfer-0.3.3 sacremoses-0.0.43 sentencepiece-0.1.94 tensorboardX-2.1 tokenizers-0.7.0 torch-1.5.1 transformers-2.11.0 word2number-1.1\n"
          ],
          "name": "stdout"
        }
      ]
    },
    {
      "cell_type": "code",
      "metadata": {
        "colab": {
          "base_uri": "https://localhost:8080/"
        },
        "id": "FSjy3W1SzgnI",
        "outputId": "b22c93d2-f0d4-40a7-f84c-129b493a8145"
      },
      "source": [
        "from allennlp.predictors.predictor import Predictor\r\n",
        "\r\n",
        "predictor = Predictor.from_path(\"https://storage.googleapis.com/allennlp-public-models/bidaf-model-2020.03.19.tar.gz\")\r\n"
      ],
      "execution_count": 19,
      "outputs": [
        {
          "output_type": "stream",
          "text": [
            "[nltk_data] Downloading package punkt to /root/nltk_data...\n",
            "[nltk_data]   Unzipping tokenizers/punkt.zip.\n",
            "[nltk_data] Downloading package wordnet to /root/nltk_data...\n",
            "[nltk_data]   Unzipping corpora/wordnet.zip.\n"
          ],
          "name": "stdout"
        },
        {
          "output_type": "stream",
          "text": [
            "100%|██████████| 45959361/45959361 [00:00<00:00, 66345346.35B/s]\n"
          ],
          "name": "stderr"
        }
      ]
    },
    {
      "cell_type": "code",
      "metadata": {
        "id": "NRoanCXxzlKL"
      },
      "source": [
        "passage = \"\"\"\r\n",
        "Coronavirus disease 2019 (COVID-19) is a contagious disease caused by severe acute respiratory syndrome coronavirus 2 (SARS-CoV-2). The first case was identified in Wuhan, China, in December 2019.\r\n",
        "It has since spread worldwide, leading to an ongoing pandemic. \r\n",
        "Symptoms of COVID-19 are variable, but often include fever, cough, fatigue, breathing difficulties, and loss of smell and taste. Symptoms begin one to fourteen days after exposure to the virus. \r\n",
        "Around one in five infected individuals do not develop any symptoms. While most people have mild symptoms, some people develop acute respiratory distress syndrome (ARDS). \r\n",
        "ARDS can be precipitated by cytokine storms, multi-organ failure, septic shock, and blood clots. Longer-term damage to organs (in particular, the lungs and heart) has been observed.\"\"\""
      ],
      "execution_count": 20,
      "outputs": []
    },
    {
      "cell_type": "code",
      "metadata": {
        "colab": {
          "base_uri": "https://localhost:8080/",
          "height": 35
        },
        "id": "E09uoJCRzqhz",
        "outputId": "77d55481-4df5-4cc4-f8de-ce0cd0da27b0"
      },
      "source": [
        "# \"what is GDP growth rate of india?\"\r\n",
        "# \"how many political parties are there in india?\"\r\n",
        "# \"how are union territoris managed?\"\r\n",
        "# \"how many states are there in india?\"\r\n",
        "\r\n",
        "result=predictor.predict(\r\n",
        "  passage=passage,\r\n",
        "  question= #\"What are the mild symptoms?\"\r\n",
        "  \"when symptoms begin?\"\r\n",
        ")\r\n",
        "result['best_span_str']"
      ],
      "execution_count": 22,
      "outputs": [
        {
          "output_type": "execute_result",
          "data": {
            "application/vnd.google.colaboratory.intrinsic+json": {
              "type": "string"
            },
            "text/plain": [
              "'one to fourteen days after exposure to the virus'"
            ]
          },
          "metadata": {
            "tags": []
          },
          "execution_count": 22
        }
      ]
    },
    {
      "cell_type": "code",
      "metadata": {
        "id": "-2sDVv83-HmZ"
      },
      "source": [
        ""
      ],
      "execution_count": null,
      "outputs": []
    },
    {
      "cell_type": "markdown",
      "metadata": {
        "id": "1l_HAUA9-Gho"
      },
      "source": [
        "# Text to speech and vice versa"
      ]
    },
    {
      "cell_type": "code",
      "metadata": {
        "colab": {
          "base_uri": "https://localhost:8080/"
        },
        "id": "7uI3iFzE2XRG",
        "outputId": "7ab4cd46-e912-4097-f5b5-d088524227bb"
      },
      "source": [
        "!pip install gtts"
      ],
      "execution_count": 23,
      "outputs": [
        {
          "output_type": "stream",
          "text": [
            "Collecting gtts\n",
            "  Downloading https://files.pythonhosted.org/packages/44/31/4494ecac89677d3c839d079363ab655c4751764803ddcd22bcc37f6d32f8/gTTS-2.2.1-py3-none-any.whl\n",
            "Requirement already satisfied: click in /usr/local/lib/python3.6/dist-packages (from gtts) (7.1.2)\n",
            "Requirement already satisfied: six in /usr/local/lib/python3.6/dist-packages (from gtts) (1.15.0)\n",
            "Requirement already satisfied: requests in /usr/local/lib/python3.6/dist-packages (from gtts) (2.23.0)\n",
            "Requirement already satisfied: chardet<4,>=3.0.2 in /usr/local/lib/python3.6/dist-packages (from requests->gtts) (3.0.4)\n",
            "Requirement already satisfied: certifi>=2017.4.17 in /usr/local/lib/python3.6/dist-packages (from requests->gtts) (2020.12.5)\n",
            "Requirement already satisfied: idna<3,>=2.5 in /usr/local/lib/python3.6/dist-packages (from requests->gtts) (2.10)\n",
            "Requirement already satisfied: urllib3!=1.25.0,!=1.25.1,<1.26,>=1.21.1 in /usr/local/lib/python3.6/dist-packages (from requests->gtts) (1.24.3)\n",
            "Installing collected packages: gtts\n",
            "Successfully installed gtts-2.2.1\n"
          ],
          "name": "stdout"
        }
      ]
    },
    {
      "cell_type": "code",
      "metadata": {
        "id": "FTHlhc_a-KUe"
      },
      "source": [
        "from gtts import gTTS\r\n",
        "\r\n",
        "text= \"An example for convertion text to speech\""
      ],
      "execution_count": 41,
      "outputs": []
    },
    {
      "cell_type": "code",
      "metadata": {
        "colab": {
          "base_uri": "https://localhost:8080/",
          "height": 75
        },
        "id": "VgIlVMJTDJ3w",
        "outputId": "ee72ef02-0910-4513-af05-e305ecdc657a"
      },
      "source": [
        "from IPython.display import Audio\r\n",
        "tts = gTTS(text)\r\n",
        "tts.save('output.wav')\r\n",
        "sound_file = 'output.wav'\r\n",
        "Audio(sound_file, autoplay= True)"
      ],
      "execution_count": 42,
      "outputs": [
        {
          "output_type": "execute_result",
          "data": {
            "text/html": [
              "\n",
              "                <audio controls=\"controls\" autoplay=\"autoplay\">\n",
              "                    <source src=\"data:audio/x-wav;base64,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\" type=\"audio/x-wav\" />\n",
              "                    Your browser does not support the audio element.\n",
              "                </audio>\n",
              "              "
            ],
            "text/plain": [
              "<IPython.lib.display.Audio object>"
            ]
          },
          "metadata": {
            "tags": []
          },
          "execution_count": 42
        }
      ]
    },
    {
      "cell_type": "code",
      "metadata": {
        "id": "-IhVVScuEJbw"
      },
      "source": [
        ""
      ],
      "execution_count": null,
      "outputs": []
    },
    {
      "cell_type": "markdown",
      "metadata": {
        "id": "WT6Jmfa4TBrK"
      },
      "source": [
        "Speech to text"
      ]
    },
    {
      "cell_type": "code",
      "metadata": {
        "colab": {
          "base_uri": "https://localhost:8080/"
        },
        "id": "Uyflsi0ANt1f",
        "outputId": "dbddb3df-21e7-42d4-f2f9-2f2499f8bb7f"
      },
      "source": [
        "!pip install SpeechRecognition"
      ],
      "execution_count": 34,
      "outputs": [
        {
          "output_type": "stream",
          "text": [
            "Collecting SpeechRecognition\n",
            "\u001b[?25l  Downloading https://files.pythonhosted.org/packages/26/e1/7f5678cd94ec1234269d23756dbdaa4c8cfaed973412f88ae8adf7893a50/SpeechRecognition-3.8.1-py2.py3-none-any.whl (32.8MB)\n",
            "\u001b[K     |████████████████████████████████| 32.8MB 121kB/s \n",
            "\u001b[?25hInstalling collected packages: SpeechRecognition\n",
            "Successfully installed SpeechRecognition-3.8.1\n"
          ],
          "name": "stdout"
        }
      ]
    },
    {
      "cell_type": "code",
      "metadata": {
        "colab": {
          "base_uri": "https://localhost:8080/",
          "height": 748
        },
        "id": "gXKqan-KNzh2",
        "outputId": "fe432348-a1bc-482c-b2c0-0b7583628889"
      },
      "source": [
        "import speech_recognition as sr\r\n",
        "\r\n",
        "audio_file= \"/content/output.wav\"\r\n",
        "r= sr.Recognizer()\r\n",
        "\r\n",
        "with sr.AudioFile(audio_file) as source:\r\n",
        "  audio_data= r.record(source)\r\n",
        "  text= r.recognize_google(audio_data)\r\n",
        "  print(text)"
      ],
      "execution_count": 46,
      "outputs": [
        {
          "output_type": "error",
          "ename": "ValueError",
          "evalue": "ignored",
          "traceback": [
            "\u001b[0;31m---------------------------------------------------------------------------\u001b[0m",
            "\u001b[0;31mError\u001b[0m                                     Traceback (most recent call last)",
            "\u001b[0;32m/usr/local/lib/python3.6/dist-packages/speech_recognition/__init__.py\u001b[0m in \u001b[0;36m__enter__\u001b[0;34m(self)\u001b[0m\n\u001b[1;32m    202\u001b[0m             \u001b[0;31m# attempt to read the file as WAV\u001b[0m\u001b[0;34m\u001b[0m\u001b[0;34m\u001b[0m\u001b[0;34m\u001b[0m\u001b[0m\n\u001b[0;32m--> 203\u001b[0;31m             \u001b[0mself\u001b[0m\u001b[0;34m.\u001b[0m\u001b[0maudio_reader\u001b[0m \u001b[0;34m=\u001b[0m \u001b[0mwave\u001b[0m\u001b[0;34m.\u001b[0m\u001b[0mopen\u001b[0m\u001b[0;34m(\u001b[0m\u001b[0mself\u001b[0m\u001b[0;34m.\u001b[0m\u001b[0mfilename_or_fileobject\u001b[0m\u001b[0;34m,\u001b[0m \u001b[0;34m\"rb\"\u001b[0m\u001b[0;34m)\u001b[0m\u001b[0;34m\u001b[0m\u001b[0;34m\u001b[0m\u001b[0m\n\u001b[0m\u001b[1;32m    204\u001b[0m             \u001b[0mself\u001b[0m\u001b[0;34m.\u001b[0m\u001b[0mlittle_endian\u001b[0m \u001b[0;34m=\u001b[0m \u001b[0;32mTrue\u001b[0m  \u001b[0;31m# RIFF WAV is a little-endian format (most ``audioop`` operations assume that the frames are stored in little-endian form)\u001b[0m\u001b[0;34m\u001b[0m\u001b[0;34m\u001b[0m\u001b[0m\n",
            "\u001b[0;32m/usr/lib/python3.6/wave.py\u001b[0m in \u001b[0;36mopen\u001b[0;34m(f, mode)\u001b[0m\n\u001b[1;32m    498\u001b[0m     \u001b[0;32mif\u001b[0m \u001b[0mmode\u001b[0m \u001b[0;32min\u001b[0m \u001b[0;34m(\u001b[0m\u001b[0;34m'r'\u001b[0m\u001b[0;34m,\u001b[0m \u001b[0;34m'rb'\u001b[0m\u001b[0;34m)\u001b[0m\u001b[0;34m:\u001b[0m\u001b[0;34m\u001b[0m\u001b[0;34m\u001b[0m\u001b[0m\n\u001b[0;32m--> 499\u001b[0;31m         \u001b[0;32mreturn\u001b[0m \u001b[0mWave_read\u001b[0m\u001b[0;34m(\u001b[0m\u001b[0mf\u001b[0m\u001b[0;34m)\u001b[0m\u001b[0;34m\u001b[0m\u001b[0;34m\u001b[0m\u001b[0m\n\u001b[0m\u001b[1;32m    500\u001b[0m     \u001b[0;32melif\u001b[0m \u001b[0mmode\u001b[0m \u001b[0;32min\u001b[0m \u001b[0;34m(\u001b[0m\u001b[0;34m'w'\u001b[0m\u001b[0;34m,\u001b[0m \u001b[0;34m'wb'\u001b[0m\u001b[0;34m)\u001b[0m\u001b[0;34m:\u001b[0m\u001b[0;34m\u001b[0m\u001b[0;34m\u001b[0m\u001b[0m\n",
            "\u001b[0;32m/usr/lib/python3.6/wave.py\u001b[0m in \u001b[0;36m__init__\u001b[0;34m(self, f)\u001b[0m\n\u001b[1;32m    162\u001b[0m         \u001b[0;32mtry\u001b[0m\u001b[0;34m:\u001b[0m\u001b[0;34m\u001b[0m\u001b[0;34m\u001b[0m\u001b[0m\n\u001b[0;32m--> 163\u001b[0;31m             \u001b[0mself\u001b[0m\u001b[0;34m.\u001b[0m\u001b[0minitfp\u001b[0m\u001b[0;34m(\u001b[0m\u001b[0mf\u001b[0m\u001b[0;34m)\u001b[0m\u001b[0;34m\u001b[0m\u001b[0;34m\u001b[0m\u001b[0m\n\u001b[0m\u001b[1;32m    164\u001b[0m         \u001b[0;32mexcept\u001b[0m\u001b[0;34m:\u001b[0m\u001b[0;34m\u001b[0m\u001b[0;34m\u001b[0m\u001b[0m\n",
            "\u001b[0;32m/usr/lib/python3.6/wave.py\u001b[0m in \u001b[0;36minitfp\u001b[0;34m(self, file)\u001b[0m\n\u001b[1;32m    129\u001b[0m         \u001b[0;32mif\u001b[0m \u001b[0mself\u001b[0m\u001b[0;34m.\u001b[0m\u001b[0m_file\u001b[0m\u001b[0;34m.\u001b[0m\u001b[0mgetname\u001b[0m\u001b[0;34m(\u001b[0m\u001b[0;34m)\u001b[0m \u001b[0;34m!=\u001b[0m \u001b[0;34mb'RIFF'\u001b[0m\u001b[0;34m:\u001b[0m\u001b[0;34m\u001b[0m\u001b[0;34m\u001b[0m\u001b[0m\n\u001b[0;32m--> 130\u001b[0;31m             \u001b[0;32mraise\u001b[0m \u001b[0mError\u001b[0m\u001b[0;34m(\u001b[0m\u001b[0;34m'file does not start with RIFF id'\u001b[0m\u001b[0;34m)\u001b[0m\u001b[0;34m\u001b[0m\u001b[0;34m\u001b[0m\u001b[0m\n\u001b[0m\u001b[1;32m    131\u001b[0m         \u001b[0;32mif\u001b[0m \u001b[0mself\u001b[0m\u001b[0;34m.\u001b[0m\u001b[0m_file\u001b[0m\u001b[0;34m.\u001b[0m\u001b[0mread\u001b[0m\u001b[0;34m(\u001b[0m\u001b[0;36m4\u001b[0m\u001b[0;34m)\u001b[0m \u001b[0;34m!=\u001b[0m \u001b[0;34mb'WAVE'\u001b[0m\u001b[0;34m:\u001b[0m\u001b[0;34m\u001b[0m\u001b[0;34m\u001b[0m\u001b[0m\n",
            "\u001b[0;31mError\u001b[0m: file does not start with RIFF id",
            "\nDuring handling of the above exception, another exception occurred:\n",
            "\u001b[0;31mError\u001b[0m                                     Traceback (most recent call last)",
            "\u001b[0;32m/usr/local/lib/python3.6/dist-packages/speech_recognition/__init__.py\u001b[0m in \u001b[0;36m__enter__\u001b[0;34m(self)\u001b[0m\n\u001b[1;32m    207\u001b[0m                 \u001b[0;31m# attempt to read the file as AIFF\u001b[0m\u001b[0;34m\u001b[0m\u001b[0;34m\u001b[0m\u001b[0;34m\u001b[0m\u001b[0m\n\u001b[0;32m--> 208\u001b[0;31m                 \u001b[0mself\u001b[0m\u001b[0;34m.\u001b[0m\u001b[0maudio_reader\u001b[0m \u001b[0;34m=\u001b[0m \u001b[0maifc\u001b[0m\u001b[0;34m.\u001b[0m\u001b[0mopen\u001b[0m\u001b[0;34m(\u001b[0m\u001b[0mself\u001b[0m\u001b[0;34m.\u001b[0m\u001b[0mfilename_or_fileobject\u001b[0m\u001b[0;34m,\u001b[0m \u001b[0;34m\"rb\"\u001b[0m\u001b[0;34m)\u001b[0m\u001b[0;34m\u001b[0m\u001b[0;34m\u001b[0m\u001b[0m\n\u001b[0m\u001b[1;32m    209\u001b[0m                 \u001b[0mself\u001b[0m\u001b[0;34m.\u001b[0m\u001b[0mlittle_endian\u001b[0m \u001b[0;34m=\u001b[0m \u001b[0;32mFalse\u001b[0m  \u001b[0;31m# AIFF is a big-endian format\u001b[0m\u001b[0;34m\u001b[0m\u001b[0;34m\u001b[0m\u001b[0m\n",
            "\u001b[0;32m/usr/lib/python3.6/aifc.py\u001b[0m in \u001b[0;36mopen\u001b[0;34m(f, mode)\u001b[0m\n\u001b[1;32m    912\u001b[0m     \u001b[0;32mif\u001b[0m \u001b[0mmode\u001b[0m \u001b[0;32min\u001b[0m \u001b[0;34m(\u001b[0m\u001b[0;34m'r'\u001b[0m\u001b[0;34m,\u001b[0m \u001b[0;34m'rb'\u001b[0m\u001b[0;34m)\u001b[0m\u001b[0;34m:\u001b[0m\u001b[0;34m\u001b[0m\u001b[0;34m\u001b[0m\u001b[0m\n\u001b[0;32m--> 913\u001b[0;31m         \u001b[0;32mreturn\u001b[0m \u001b[0mAifc_read\u001b[0m\u001b[0;34m(\u001b[0m\u001b[0mf\u001b[0m\u001b[0;34m)\u001b[0m\u001b[0;34m\u001b[0m\u001b[0;34m\u001b[0m\u001b[0m\n\u001b[0m\u001b[1;32m    914\u001b[0m     \u001b[0;32melif\u001b[0m \u001b[0mmode\u001b[0m \u001b[0;32min\u001b[0m \u001b[0;34m(\u001b[0m\u001b[0;34m'w'\u001b[0m\u001b[0;34m,\u001b[0m \u001b[0;34m'wb'\u001b[0m\u001b[0;34m)\u001b[0m\u001b[0;34m:\u001b[0m\u001b[0;34m\u001b[0m\u001b[0;34m\u001b[0m\u001b[0m\n",
            "\u001b[0;32m/usr/lib/python3.6/aifc.py\u001b[0m in \u001b[0;36m__init__\u001b[0;34m(self, f)\u001b[0m\n\u001b[1;32m    351\u001b[0m             \u001b[0;32mtry\u001b[0m\u001b[0;34m:\u001b[0m\u001b[0;34m\u001b[0m\u001b[0;34m\u001b[0m\u001b[0m\n\u001b[0;32m--> 352\u001b[0;31m                 \u001b[0mself\u001b[0m\u001b[0;34m.\u001b[0m\u001b[0minitfp\u001b[0m\u001b[0;34m(\u001b[0m\u001b[0mfile_object\u001b[0m\u001b[0;34m)\u001b[0m\u001b[0;34m\u001b[0m\u001b[0;34m\u001b[0m\u001b[0m\n\u001b[0m\u001b[1;32m    353\u001b[0m             \u001b[0;32mexcept\u001b[0m\u001b[0;34m:\u001b[0m\u001b[0;34m\u001b[0m\u001b[0;34m\u001b[0m\u001b[0m\n",
            "\u001b[0;32m/usr/lib/python3.6/aifc.py\u001b[0m in \u001b[0;36minitfp\u001b[0;34m(self, file)\u001b[0m\n\u001b[1;32m    315\u001b[0m         \u001b[0;32mif\u001b[0m \u001b[0mchunk\u001b[0m\u001b[0;34m.\u001b[0m\u001b[0mgetname\u001b[0m\u001b[0;34m(\u001b[0m\u001b[0;34m)\u001b[0m \u001b[0;34m!=\u001b[0m \u001b[0;34mb'FORM'\u001b[0m\u001b[0;34m:\u001b[0m\u001b[0;34m\u001b[0m\u001b[0;34m\u001b[0m\u001b[0m\n\u001b[0;32m--> 316\u001b[0;31m             \u001b[0;32mraise\u001b[0m \u001b[0mError\u001b[0m\u001b[0;34m(\u001b[0m\u001b[0;34m'file does not start with FORM id'\u001b[0m\u001b[0;34m)\u001b[0m\u001b[0;34m\u001b[0m\u001b[0;34m\u001b[0m\u001b[0m\n\u001b[0m\u001b[1;32m    317\u001b[0m         \u001b[0mformdata\u001b[0m \u001b[0;34m=\u001b[0m \u001b[0mchunk\u001b[0m\u001b[0;34m.\u001b[0m\u001b[0mread\u001b[0m\u001b[0;34m(\u001b[0m\u001b[0;36m4\u001b[0m\u001b[0;34m)\u001b[0m\u001b[0;34m\u001b[0m\u001b[0;34m\u001b[0m\u001b[0m\n",
            "\u001b[0;31mError\u001b[0m: file does not start with FORM id",
            "\nDuring handling of the above exception, another exception occurred:\n",
            "\u001b[0;31mEOFError\u001b[0m                                  Traceback (most recent call last)",
            "\u001b[0;32m/usr/local/lib/python3.6/dist-packages/speech_recognition/__init__.py\u001b[0m in \u001b[0;36m__enter__\u001b[0;34m(self)\u001b[0m\n\u001b[1;32m    233\u001b[0m                 \u001b[0;32mtry\u001b[0m\u001b[0;34m:\u001b[0m\u001b[0;34m\u001b[0m\u001b[0;34m\u001b[0m\u001b[0m\n\u001b[0;32m--> 234\u001b[0;31m                     \u001b[0mself\u001b[0m\u001b[0;34m.\u001b[0m\u001b[0maudio_reader\u001b[0m \u001b[0;34m=\u001b[0m \u001b[0maifc\u001b[0m\u001b[0;34m.\u001b[0m\u001b[0mopen\u001b[0m\u001b[0;34m(\u001b[0m\u001b[0maiff_file\u001b[0m\u001b[0;34m,\u001b[0m \u001b[0;34m\"rb\"\u001b[0m\u001b[0;34m)\u001b[0m\u001b[0;34m\u001b[0m\u001b[0;34m\u001b[0m\u001b[0m\n\u001b[0m\u001b[1;32m    235\u001b[0m                 \u001b[0;32mexcept\u001b[0m \u001b[0;34m(\u001b[0m\u001b[0maifc\u001b[0m\u001b[0;34m.\u001b[0m\u001b[0mError\u001b[0m\u001b[0;34m,\u001b[0m \u001b[0mEOFError\u001b[0m\u001b[0;34m)\u001b[0m\u001b[0;34m:\u001b[0m\u001b[0;34m\u001b[0m\u001b[0;34m\u001b[0m\u001b[0m\n",
            "\u001b[0;32m/usr/lib/python3.6/aifc.py\u001b[0m in \u001b[0;36mopen\u001b[0;34m(f, mode)\u001b[0m\n\u001b[1;32m    912\u001b[0m     \u001b[0;32mif\u001b[0m \u001b[0mmode\u001b[0m \u001b[0;32min\u001b[0m \u001b[0;34m(\u001b[0m\u001b[0;34m'r'\u001b[0m\u001b[0;34m,\u001b[0m \u001b[0;34m'rb'\u001b[0m\u001b[0;34m)\u001b[0m\u001b[0;34m:\u001b[0m\u001b[0;34m\u001b[0m\u001b[0;34m\u001b[0m\u001b[0m\n\u001b[0;32m--> 913\u001b[0;31m         \u001b[0;32mreturn\u001b[0m \u001b[0mAifc_read\u001b[0m\u001b[0;34m(\u001b[0m\u001b[0mf\u001b[0m\u001b[0;34m)\u001b[0m\u001b[0;34m\u001b[0m\u001b[0;34m\u001b[0m\u001b[0m\n\u001b[0m\u001b[1;32m    914\u001b[0m     \u001b[0;32melif\u001b[0m \u001b[0mmode\u001b[0m \u001b[0;32min\u001b[0m \u001b[0;34m(\u001b[0m\u001b[0;34m'w'\u001b[0m\u001b[0;34m,\u001b[0m \u001b[0;34m'wb'\u001b[0m\u001b[0;34m)\u001b[0m\u001b[0;34m:\u001b[0m\u001b[0;34m\u001b[0m\u001b[0;34m\u001b[0m\u001b[0m\n",
            "\u001b[0;32m/usr/lib/python3.6/aifc.py\u001b[0m in \u001b[0;36m__init__\u001b[0;34m(self, f)\u001b[0m\n\u001b[1;32m    357\u001b[0m             \u001b[0;31m# assume it is an open file object already\u001b[0m\u001b[0;34m\u001b[0m\u001b[0;34m\u001b[0m\u001b[0;34m\u001b[0m\u001b[0m\n\u001b[0;32m--> 358\u001b[0;31m             \u001b[0mself\u001b[0m\u001b[0;34m.\u001b[0m\u001b[0minitfp\u001b[0m\u001b[0;34m(\u001b[0m\u001b[0mf\u001b[0m\u001b[0;34m)\u001b[0m\u001b[0;34m\u001b[0m\u001b[0;34m\u001b[0m\u001b[0m\n\u001b[0m\u001b[1;32m    359\u001b[0m \u001b[0;34m\u001b[0m\u001b[0m\n",
            "\u001b[0;32m/usr/lib/python3.6/aifc.py\u001b[0m in \u001b[0;36minitfp\u001b[0;34m(self, file)\u001b[0m\n\u001b[1;32m    313\u001b[0m         \u001b[0mself\u001b[0m\u001b[0;34m.\u001b[0m\u001b[0m_file\u001b[0m \u001b[0;34m=\u001b[0m \u001b[0mfile\u001b[0m\u001b[0;34m\u001b[0m\u001b[0;34m\u001b[0m\u001b[0m\n\u001b[0;32m--> 314\u001b[0;31m         \u001b[0mchunk\u001b[0m \u001b[0;34m=\u001b[0m \u001b[0mChunk\u001b[0m\u001b[0;34m(\u001b[0m\u001b[0mfile\u001b[0m\u001b[0;34m)\u001b[0m\u001b[0;34m\u001b[0m\u001b[0;34m\u001b[0m\u001b[0m\n\u001b[0m\u001b[1;32m    315\u001b[0m         \u001b[0;32mif\u001b[0m \u001b[0mchunk\u001b[0m\u001b[0;34m.\u001b[0m\u001b[0mgetname\u001b[0m\u001b[0;34m(\u001b[0m\u001b[0;34m)\u001b[0m \u001b[0;34m!=\u001b[0m \u001b[0;34mb'FORM'\u001b[0m\u001b[0;34m:\u001b[0m\u001b[0;34m\u001b[0m\u001b[0;34m\u001b[0m\u001b[0m\n",
            "\u001b[0;32m/usr/lib/python3.6/chunk.py\u001b[0m in \u001b[0;36m__init__\u001b[0;34m(self, file, align, bigendian, inclheader)\u001b[0m\n\u001b[1;32m     62\u001b[0m         \u001b[0;32mif\u001b[0m \u001b[0mlen\u001b[0m\u001b[0;34m(\u001b[0m\u001b[0mself\u001b[0m\u001b[0;34m.\u001b[0m\u001b[0mchunkname\u001b[0m\u001b[0;34m)\u001b[0m \u001b[0;34m<\u001b[0m \u001b[0;36m4\u001b[0m\u001b[0;34m:\u001b[0m\u001b[0;34m\u001b[0m\u001b[0;34m\u001b[0m\u001b[0m\n\u001b[0;32m---> 63\u001b[0;31m             \u001b[0;32mraise\u001b[0m \u001b[0mEOFError\u001b[0m\u001b[0;34m\u001b[0m\u001b[0;34m\u001b[0m\u001b[0m\n\u001b[0m\u001b[1;32m     64\u001b[0m         \u001b[0;32mtry\u001b[0m\u001b[0;34m:\u001b[0m\u001b[0;34m\u001b[0m\u001b[0;34m\u001b[0m\u001b[0m\n",
            "\u001b[0;31mEOFError\u001b[0m: ",
            "\nDuring handling of the above exception, another exception occurred:\n",
            "\u001b[0;31mValueError\u001b[0m                                Traceback (most recent call last)",
            "\u001b[0;32m<ipython-input-46-15d2c88bad9d>\u001b[0m in \u001b[0;36m<module>\u001b[0;34m()\u001b[0m\n\u001b[1;32m      4\u001b[0m \u001b[0mr\u001b[0m\u001b[0;34m=\u001b[0m \u001b[0msr\u001b[0m\u001b[0;34m.\u001b[0m\u001b[0mRecognizer\u001b[0m\u001b[0;34m(\u001b[0m\u001b[0;34m)\u001b[0m\u001b[0;34m\u001b[0m\u001b[0;34m\u001b[0m\u001b[0m\n\u001b[1;32m      5\u001b[0m \u001b[0;34m\u001b[0m\u001b[0m\n\u001b[0;32m----> 6\u001b[0;31m \u001b[0;32mwith\u001b[0m \u001b[0msr\u001b[0m\u001b[0;34m.\u001b[0m\u001b[0mAudioFile\u001b[0m\u001b[0;34m(\u001b[0m\u001b[0maudio_file\u001b[0m\u001b[0;34m)\u001b[0m \u001b[0;32mas\u001b[0m \u001b[0msource\u001b[0m\u001b[0;34m:\u001b[0m\u001b[0;34m\u001b[0m\u001b[0;34m\u001b[0m\u001b[0m\n\u001b[0m\u001b[1;32m      7\u001b[0m   \u001b[0maudio_data\u001b[0m\u001b[0;34m=\u001b[0m \u001b[0mr\u001b[0m\u001b[0;34m.\u001b[0m\u001b[0mrecord\u001b[0m\u001b[0;34m(\u001b[0m\u001b[0msource\u001b[0m\u001b[0;34m)\u001b[0m\u001b[0;34m\u001b[0m\u001b[0;34m\u001b[0m\u001b[0m\n\u001b[1;32m      8\u001b[0m   \u001b[0mtext\u001b[0m\u001b[0;34m=\u001b[0m \u001b[0mr\u001b[0m\u001b[0;34m.\u001b[0m\u001b[0mrecognize_google\u001b[0m\u001b[0;34m(\u001b[0m\u001b[0maudio_data\u001b[0m\u001b[0;34m)\u001b[0m\u001b[0;34m\u001b[0m\u001b[0;34m\u001b[0m\u001b[0m\n",
            "\u001b[0;32m/usr/local/lib/python3.6/dist-packages/speech_recognition/__init__.py\u001b[0m in \u001b[0;36m__enter__\u001b[0;34m(self)\u001b[0m\n\u001b[1;32m    234\u001b[0m                     \u001b[0mself\u001b[0m\u001b[0;34m.\u001b[0m\u001b[0maudio_reader\u001b[0m \u001b[0;34m=\u001b[0m \u001b[0maifc\u001b[0m\u001b[0;34m.\u001b[0m\u001b[0mopen\u001b[0m\u001b[0;34m(\u001b[0m\u001b[0maiff_file\u001b[0m\u001b[0;34m,\u001b[0m \u001b[0;34m\"rb\"\u001b[0m\u001b[0;34m)\u001b[0m\u001b[0;34m\u001b[0m\u001b[0;34m\u001b[0m\u001b[0m\n\u001b[1;32m    235\u001b[0m                 \u001b[0;32mexcept\u001b[0m \u001b[0;34m(\u001b[0m\u001b[0maifc\u001b[0m\u001b[0;34m.\u001b[0m\u001b[0mError\u001b[0m\u001b[0;34m,\u001b[0m \u001b[0mEOFError\u001b[0m\u001b[0;34m)\u001b[0m\u001b[0;34m:\u001b[0m\u001b[0;34m\u001b[0m\u001b[0;34m\u001b[0m\u001b[0m\n\u001b[0;32m--> 236\u001b[0;31m                     \u001b[0;32mraise\u001b[0m \u001b[0mValueError\u001b[0m\u001b[0;34m(\u001b[0m\u001b[0;34m\"Audio file could not be read as PCM WAV, AIFF/AIFF-C, or Native FLAC; check if file is corrupted or in another format\"\u001b[0m\u001b[0;34m)\u001b[0m\u001b[0;34m\u001b[0m\u001b[0;34m\u001b[0m\u001b[0m\n\u001b[0m\u001b[1;32m    237\u001b[0m                 \u001b[0mself\u001b[0m\u001b[0;34m.\u001b[0m\u001b[0mlittle_endian\u001b[0m \u001b[0;34m=\u001b[0m \u001b[0;32mFalse\u001b[0m  \u001b[0;31m# AIFF is a big-endian format\u001b[0m\u001b[0;34m\u001b[0m\u001b[0;34m\u001b[0m\u001b[0m\n\u001b[1;32m    238\u001b[0m         \u001b[0;32massert\u001b[0m \u001b[0;36m1\u001b[0m \u001b[0;34m<=\u001b[0m \u001b[0mself\u001b[0m\u001b[0;34m.\u001b[0m\u001b[0maudio_reader\u001b[0m\u001b[0;34m.\u001b[0m\u001b[0mgetnchannels\u001b[0m\u001b[0;34m(\u001b[0m\u001b[0;34m)\u001b[0m \u001b[0;34m<=\u001b[0m \u001b[0;36m2\u001b[0m\u001b[0;34m,\u001b[0m \u001b[0;34m\"Audio must be mono or stereo\"\u001b[0m\u001b[0;34m\u001b[0m\u001b[0;34m\u001b[0m\u001b[0m\n",
            "\u001b[0;31mValueError\u001b[0m: Audio file could not be read as PCM WAV, AIFF/AIFF-C, or Native FLAC; check if file is corrupted or in another format"
          ]
        }
      ]
    },
    {
      "cell_type": "markdown",
      "metadata": {
        "id": "oHDwQw-7TEaW"
      },
      "source": [
        "Live Speech to text"
      ]
    },
    {
      "cell_type": "code",
      "metadata": {
        "colab": {
          "base_uri": "https://localhost:8080/"
        },
        "id": "gsXlDYNrPjf_",
        "outputId": "b08ea15d-3b3d-4617-a25a-d32197c9b98e"
      },
      "source": [
        "!pip install PyAudio"
      ],
      "execution_count": 60,
      "outputs": [
        {
          "output_type": "stream",
          "text": [
            "Collecting PyAudio\n",
            "  Using cached https://files.pythonhosted.org/packages/ab/42/b4f04721c5c5bfc196ce156b3c768998ef8c0ae3654ed29ea5020c749a6b/PyAudio-0.2.11.tar.gz\n",
            "Building wheels for collected packages: PyAudio\n",
            "  Building wheel for PyAudio (setup.py) ... \u001b[?25lerror\n",
            "\u001b[31m  ERROR: Failed building wheel for PyAudio\u001b[0m\n",
            "\u001b[?25h  Running setup.py clean for PyAudio\n",
            "Failed to build PyAudio\n",
            "Installing collected packages: PyAudio\n",
            "    Running setup.py install for PyAudio ... \u001b[?25l\u001b[?25herror\n",
            "\u001b[31mERROR: Command errored out with exit status 1: /usr/bin/python3 -u -c 'import sys, setuptools, tokenize; sys.argv[0] = '\"'\"'/tmp/pip-install-vis_jjtx/PyAudio/setup.py'\"'\"'; __file__='\"'\"'/tmp/pip-install-vis_jjtx/PyAudio/setup.py'\"'\"';f=getattr(tokenize, '\"'\"'open'\"'\"', open)(__file__);code=f.read().replace('\"'\"'\\r\\n'\"'\"', '\"'\"'\\n'\"'\"');f.close();exec(compile(code, __file__, '\"'\"'exec'\"'\"'))' install --record /tmp/pip-record-xawag2jn/install-record.txt --single-version-externally-managed --compile Check the logs for full command output.\u001b[0m\n"
          ],
          "name": "stdout"
        }
      ]
    },
    {
      "cell_type": "code",
      "metadata": {
        "id": "_if42Mx8TI1P"
      },
      "source": [
        "import speech_recognition as sr\r\n",
        "\r\n",
        "r= sr.Recognizer()\r\n",
        "\r\n",
        "print('Speak something! ')\r\n",
        "\r\n",
        "with sr.Microphone() as source:\r\n",
        "  audio_data= r.record(source, duration= 5)\r\n",
        "  text= r.recognize_google(audio_data)\r\n",
        "  print(text)"
      ],
      "execution_count": null,
      "outputs": []
    },
    {
      "cell_type": "code",
      "metadata": {
        "id": "iyuHYrlaTukt"
      },
      "source": [
        ""
      ],
      "execution_count": null,
      "outputs": []
    }
  ]
}